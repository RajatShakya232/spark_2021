{
 "cells": [
  {
   "cell_type": "code",
   "execution_count": null,
   "id": "b253540e",
   "metadata": {},
   "outputs": [],
   "source": [
    "# Install requirements\n",
    "!pip install -r requirements.txt\n",
    "\n",
    "import ipynb.fs.defs.functions\n",
    "from IPython.display import clear_output\n",
    "clear_output()\n",
    "\n",
    "\n",
    "# San Mateo-Hayward Bridge : 37.6019°N 122.2047°W\n",
    "# Dumbarton : 37.5069°N 122.1169°W\n",
    "# San Francisco-Oakland Bay Bridge\n",
    "\n",
    "\n",
    "# locations = getInput()\n",
    "\n",
    "locations = [{\"loc_id\": \"GGB\",\n",
    "              \"name\": \"Golden Gate Bridge\",\n",
    "              \"latitude\": 37.8199,\n",
    "              \"longitude\": -122.4783,\n",
    "              \"imt\": \"SA1P0\"},\n",
    "             \n",
    "            {\"loc_id\": \"SMH\",\n",
    "              \"name\": \"San Mateo-Hayward Bridge\",\n",
    "              \"latitude\": 37.6019,\n",
    "              \"longitude\": -122.2047,\n",
    "              \"imt\": \"SA1P0\"}, \n",
    "             \n",
    "            {\"loc_id\": \"DBN\",\n",
    "              \"name\": \"Dumbarton Bridge\",\n",
    "              \"latitude\": 37.5069,\n",
    "              \"longitude\": -122.1169,\n",
    "              \"imt\": \"SA1P0\"}]\n",
    "\n",
    "db_path = \"database/final.sqlite3\"\n",
    "\n",
    "ipynb.fs.defs.functions.execute(locations, db_path)\n",
    "\n",
    "print(\"End\")\n"
   ]
  }
 ],
 "metadata": {
  "kernelspec": {
   "display_name": "Python 3",
   "language": "python",
   "name": "python3"
  },
  "language_info": {
   "codemirror_mode": {
    "name": "ipython",
    "version": 3
   },
   "file_extension": ".py",
   "mimetype": "text/x-python",
   "name": "python",
   "nbconvert_exporter": "python",
   "pygments_lexer": "ipython3",
   "version": "3.8.0"
  }
 },
 "nbformat": 4,
 "nbformat_minor": 5
}
